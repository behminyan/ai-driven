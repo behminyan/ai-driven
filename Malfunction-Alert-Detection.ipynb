{
 "cells": [
  {
   "cell_type": "markdown",
   "metadata": {},
   "source": [
    "# Vehicle Malfunction/Accident Detection System\n",
    "\n",
    "* Fast-Fourier Transform model on wheel bearing vibrational data"
   ]
  },
  {
   "cell_type": "code",
   "execution_count": 1,
   "metadata": {},
   "outputs": [
    {
     "data": {
      "text/html": [
       "<div>\n",
       "<table border=\"1\" class=\"dataframe\">\n",
       "  <thead>\n",
       "    <tr style=\"text-align: right;\">\n",
       "      <th></th>\n",
       "      <th>b1x</th>\n",
       "      <th>b1y</th>\n",
       "      <th>b2x</th>\n",
       "      <th>b2y</th>\n",
       "      <th>b3x</th>\n",
       "      <th>b3y</th>\n",
       "      <th>b4x</th>\n",
       "      <th>b4y</th>\n",
       "    </tr>\n",
       "  </thead>\n",
       "  <tbody>\n",
       "    <tr>\n",
       "      <th>0</th>\n",
       "      <td>-0.022</td>\n",
       "      <td>-0.039</td>\n",
       "      <td>-0.183</td>\n",
       "      <td>-0.054</td>\n",
       "      <td>-0.105</td>\n",
       "      <td>-0.134</td>\n",
       "      <td>-0.129</td>\n",
       "      <td>-0.142</td>\n",
       "    </tr>\n",
       "    <tr>\n",
       "      <th>1</th>\n",
       "      <td>-0.105</td>\n",
       "      <td>-0.017</td>\n",
       "      <td>-0.164</td>\n",
       "      <td>-0.183</td>\n",
       "      <td>-0.049</td>\n",
       "      <td>0.029</td>\n",
       "      <td>-0.115</td>\n",
       "      <td>-0.122</td>\n",
       "    </tr>\n",
       "    <tr>\n",
       "      <th>2</th>\n",
       "      <td>-0.183</td>\n",
       "      <td>-0.098</td>\n",
       "      <td>-0.195</td>\n",
       "      <td>-0.125</td>\n",
       "      <td>-0.005</td>\n",
       "      <td>-0.007</td>\n",
       "      <td>-0.171</td>\n",
       "      <td>-0.071</td>\n",
       "    </tr>\n",
       "    <tr>\n",
       "      <th>3</th>\n",
       "      <td>-0.178</td>\n",
       "      <td>-0.161</td>\n",
       "      <td>-0.159</td>\n",
       "      <td>-0.178</td>\n",
       "      <td>-0.100</td>\n",
       "      <td>-0.115</td>\n",
       "      <td>-0.112</td>\n",
       "      <td>-0.078</td>\n",
       "    </tr>\n",
       "    <tr>\n",
       "      <th>4</th>\n",
       "      <td>-0.208</td>\n",
       "      <td>-0.129</td>\n",
       "      <td>-0.261</td>\n",
       "      <td>-0.098</td>\n",
       "      <td>-0.151</td>\n",
       "      <td>-0.205</td>\n",
       "      <td>-0.063</td>\n",
       "      <td>-0.066</td>\n",
       "    </tr>\n",
       "  </tbody>\n",
       "</table>\n",
       "</div>"
      ],
      "text/plain": [
       "     b1x    b1y    b2x    b2y    b3x    b3y    b4x    b4y\n",
       "0 -0.022 -0.039 -0.183 -0.054 -0.105 -0.134 -0.129 -0.142\n",
       "1 -0.105 -0.017 -0.164 -0.183 -0.049  0.029 -0.115 -0.122\n",
       "2 -0.183 -0.098 -0.195 -0.125 -0.005 -0.007 -0.171 -0.071\n",
       "3 -0.178 -0.161 -0.159 -0.178 -0.100 -0.115 -0.112 -0.078\n",
       "4 -0.208 -0.129 -0.261 -0.098 -0.151 -0.205 -0.063 -0.066"
      ]
     },
     "execution_count": 1,
     "metadata": {},
     "output_type": "execute_result"
    }
   ],
   "source": [
    "import numpy as np\n",
    "import pandas as pd\n",
    "import matplotlib.pyplot as plt\n",
    "import glob\n",
    "\n",
    "data=pd.read_csv(\"2003.10.22.12.06.24\", header=None, names=[\"b1x\",\"b1y\",\"b2x\",\"b2y\",\"b3x\",\"b3y\",\"b4x\",\"b4y\"], delimiter=r\"\\s+\")\n",
    "data.head()"
   ]
  },
  {
   "cell_type": "code",
   "execution_count": 2,
   "metadata": {},
   "outputs": [
    {
     "data": {
      "text/html": [
       "<div>\n",
       "<table border=\"1\" class=\"dataframe\">\n",
       "  <thead>\n",
       "    <tr style=\"text-align: right;\">\n",
       "      <th></th>\n",
       "      <th>b1x</th>\n",
       "      <th>b1y</th>\n",
       "      <th>b2x</th>\n",
       "      <th>b2y</th>\n",
       "      <th>b3x</th>\n",
       "      <th>b3y</th>\n",
       "      <th>b4x</th>\n",
       "      <th>b4y</th>\n",
       "    </tr>\n",
       "  </thead>\n",
       "  <tbody>\n",
       "    <tr>\n",
       "      <th>count</th>\n",
       "      <td>20480.000000</td>\n",
       "      <td>20480.00000</td>\n",
       "      <td>20480.000000</td>\n",
       "      <td>20480.000000</td>\n",
       "      <td>20480.000000</td>\n",
       "      <td>20480.000000</td>\n",
       "      <td>20480.000000</td>\n",
       "      <td>20480.000000</td>\n",
       "    </tr>\n",
       "    <tr>\n",
       "      <th>mean</th>\n",
       "      <td>-0.094593</td>\n",
       "      <td>-0.09388</td>\n",
       "      <td>-0.093817</td>\n",
       "      <td>-0.093752</td>\n",
       "      <td>-0.090812</td>\n",
       "      <td>-0.090881</td>\n",
       "      <td>-0.090969</td>\n",
       "      <td>-0.094235</td>\n",
       "    </tr>\n",
       "    <tr>\n",
       "      <th>std</th>\n",
       "      <td>0.081124</td>\n",
       "      <td>0.07065</td>\n",
       "      <td>0.090650</td>\n",
       "      <td>0.077510</td>\n",
       "      <td>0.091463</td>\n",
       "      <td>0.095488</td>\n",
       "      <td>0.060086</td>\n",
       "      <td>0.066382</td>\n",
       "    </tr>\n",
       "    <tr>\n",
       "      <th>min</th>\n",
       "      <td>-0.720000</td>\n",
       "      <td>-0.56400</td>\n",
       "      <td>-0.674000</td>\n",
       "      <td>-0.530000</td>\n",
       "      <td>-0.496000</td>\n",
       "      <td>-0.784000</td>\n",
       "      <td>-0.413000</td>\n",
       "      <td>-0.471000</td>\n",
       "    </tr>\n",
       "    <tr>\n",
       "      <th>25%</th>\n",
       "      <td>-0.146000</td>\n",
       "      <td>-0.13900</td>\n",
       "      <td>-0.156000</td>\n",
       "      <td>-0.146000</td>\n",
       "      <td>-0.151000</td>\n",
       "      <td>-0.154000</td>\n",
       "      <td>-0.129000</td>\n",
       "      <td>-0.134000</td>\n",
       "    </tr>\n",
       "    <tr>\n",
       "      <th>50%</th>\n",
       "      <td>-0.095000</td>\n",
       "      <td>-0.09300</td>\n",
       "      <td>-0.093000</td>\n",
       "      <td>-0.093000</td>\n",
       "      <td>-0.090000</td>\n",
       "      <td>-0.090000</td>\n",
       "      <td>-0.090000</td>\n",
       "      <td>-0.095000</td>\n",
       "    </tr>\n",
       "    <tr>\n",
       "      <th>75%</th>\n",
       "      <td>-0.042000</td>\n",
       "      <td>-0.04900</td>\n",
       "      <td>-0.032000</td>\n",
       "      <td>-0.042000</td>\n",
       "      <td>-0.029000</td>\n",
       "      <td>-0.029000</td>\n",
       "      <td>-0.054000</td>\n",
       "      <td>-0.054000</td>\n",
       "    </tr>\n",
       "    <tr>\n",
       "      <th>max</th>\n",
       "      <td>0.388000</td>\n",
       "      <td>0.70100</td>\n",
       "      <td>0.359000</td>\n",
       "      <td>0.256000</td>\n",
       "      <td>0.400000</td>\n",
       "      <td>0.415000</td>\n",
       "      <td>0.249000</td>\n",
       "      <td>0.374000</td>\n",
       "    </tr>\n",
       "  </tbody>\n",
       "</table>\n",
       "</div>"
      ],
      "text/plain": [
       "                b1x          b1y           b2x           b2y           b3x  \\\n",
       "count  20480.000000  20480.00000  20480.000000  20480.000000  20480.000000   \n",
       "mean      -0.094593     -0.09388     -0.093817     -0.093752     -0.090812   \n",
       "std        0.081124      0.07065      0.090650      0.077510      0.091463   \n",
       "min       -0.720000     -0.56400     -0.674000     -0.530000     -0.496000   \n",
       "25%       -0.146000     -0.13900     -0.156000     -0.146000     -0.151000   \n",
       "50%       -0.095000     -0.09300     -0.093000     -0.093000     -0.090000   \n",
       "75%       -0.042000     -0.04900     -0.032000     -0.042000     -0.029000   \n",
       "max        0.388000      0.70100      0.359000      0.256000      0.400000   \n",
       "\n",
       "                b3y           b4x           b4y  \n",
       "count  20480.000000  20480.000000  20480.000000  \n",
       "mean      -0.090881     -0.090969     -0.094235  \n",
       "std        0.095488      0.060086      0.066382  \n",
       "min       -0.784000     -0.413000     -0.471000  \n",
       "25%       -0.154000     -0.129000     -0.134000  \n",
       "50%       -0.090000     -0.090000     -0.095000  \n",
       "75%       -0.029000     -0.054000     -0.054000  \n",
       "max        0.415000      0.249000      0.374000  "
      ]
     },
     "execution_count": 2,
     "metadata": {},
     "output_type": "execute_result"
    }
   ],
   "source": [
    "data.describe()"
   ]
  },
  {
   "cell_type": "code",
   "execution_count": 3,
   "metadata": {},
   "outputs": [
    {
     "data": {
      "image/png": "[encoded data removed]",
      "text/plain": [
       "<matplotlib.figure.Figure at 0x106339b50>"
      ]
     },
     "metadata": {},
     "output_type": "display_data"
    }
   ],
   "source": [
    "%matplotlib inline\n",
    "data.b1x.plot()\n",
    "plt.xlabel(\"Index\")\n",
    "plt.ylabel(\"Vibration value\")\n",
    "plt.savefig(\"rawdata.png\")\n",
    "plt.show()"
   ]
  },
  {
   "cell_type": "markdown",
   "metadata": {},
   "source": [
    "## Initial Observations (b1x)\n",
    "\n",
    "* plot above represents 1-second snapshot in life of bearing\n",
    "* mean value < 0, between 0.0 and -0.1\n",
    "* max and min are sometimes outliers\n",
    "* spikes in value regularly spaced\n",
    "* spike in -ve value corresponds with extreme +ve value\n",
    "* graphs for each bearing plotted below"
   ]
  },
  {
   "cell_type": "code",
   "execution_count": 4,
   "metadata": {},
   "outputs": [
    {
     "data": {
      "image/png": "[encoded data removed]",
      "text/plain": [
       "<matplotlib.figure.Figure at 0x107124350>"
      ]
     },
     "metadata": {},
     "output_type": "display_data"
    }
   ],
   "source": [
    "ax=data.plot()\n",
    "plt.xlabel(\"Index\")\n",
    "plt.ylabel(\"Vibration value\")\n",
    "plt.show()"
   ]
  },
  {
   "cell_type": "markdown",
   "metadata": {},
   "source": [
    "# Feature Extraction \n",
    "\n",
    "* condense dataset\n",
    "* ensure features are representative of process to be modelled"
   ]
  },
  {
   "cell_type": "code",
   "execution_count": 5,
   "metadata": {},
   "outputs": [
    {
     "data": {
      "text/plain": [
       "(0, 1000)"
      ]
     },
     "execution_count": 5,
     "metadata": {},
     "output_type": "execute_result"
    },
    {
     "data": {
      "image/png": "[encoded data removed]",
      "text/plain": [
       "<matplotlib.figure.Figure at 0x10a0a92d0>"
      ]
     },
     "metadata": {},
     "output_type": "display_data"
    }
   ],
   "source": [
    "src=data.b1x\n",
    "import scipy.fftpack\n",
    "\n",
    "N = 20480\n",
    "T = 1.0 / 20000.0\n",
    "yf = scipy.fftpack.fft(src)\n",
    "xf = np.linspace(0.0, 1.0/(2.0*T), N/2)\n",
    "\n",
    "freqs=xf[1:]\n",
    "amps=np.abs(yf[0:N/2])[1:]\n",
    "\n",
    "plt.subplot(2, 1, 1)\n",
    "plt.plot(freqs, amps)\n",
    "plt.xlabel(\"Frequency (kHz)\")\n",
    "plt.ylabel(\"Amplitude\")\n",
    "\n",
    "plt.subplot(2, 1, 2)\n",
    "plt.plot(freqs, amps)\n",
    "plt.xlabel(\"Frequency (kHz)\")\n",
    "plt.ylabel(\"Amplitude\")\n",
    "plt.xlim(0, 1000) "
   ]
  },
  {
   "cell_type": "code",
   "execution_count": 6,
   "metadata": {},
   "outputs": [
    {
     "name": "stdout",
     "output_type": "stream",
     "text": [
      "Tabulate frequencies with top amplitudes...\n",
      "note: outliers are at 49.8Hz, 57.6Hz, and 493.2Hz.\n"
     ]
    },
    {
     "data": {
      "text/html": [
       "<div>\n",
       "<table border=\"1\" class=\"dataframe\">\n",
       "  <thead>\n",
       "    <tr style=\"text-align: right;\">\n",
       "      <th></th>\n",
       "      <th>Amplitudes</th>\n",
       "      <th>Frequency</th>\n",
       "    </tr>\n",
       "  </thead>\n",
       "  <tbody>\n",
       "    <tr>\n",
       "      <th>1009</th>\n",
       "      <td>568.025449</td>\n",
       "      <td>986.424456</td>\n",
       "    </tr>\n",
       "    <tr>\n",
       "      <th>1016</th>\n",
       "      <td>181.099925</td>\n",
       "      <td>993.261061</td>\n",
       "    </tr>\n",
       "    <tr>\n",
       "      <th>504</th>\n",
       "      <td>125.348528</td>\n",
       "      <td>493.212228</td>\n",
       "    </tr>\n",
       "    <tr>\n",
       "      <th>1002</th>\n",
       "      <td>102.899711</td>\n",
       "      <td>979.587850</td>\n",
       "    </tr>\n",
       "    <tr>\n",
       "      <th>1017</th>\n",
       "      <td>95.688706</td>\n",
       "      <td>994.237719</td>\n",
       "    </tr>\n",
       "  </tbody>\n",
       "</table>\n",
       "</div>"
      ],
      "text/plain": [
       "      Amplitudes   Frequency\n",
       "1009  568.025449  986.424456\n",
       "1016  181.099925  993.261061\n",
       "504   125.348528  493.212228\n",
       "1002  102.899711  979.587850\n",
       "1017   95.688706  994.237719"
      ]
     },
     "execution_count": 6,
     "metadata": {},
     "output_type": "execute_result"
    }
   ],
   "source": [
    "df = pd.DataFrame({'Amplitudes':amps, 'Frequency':freqs})\n",
    "\n",
    "print \"Tabulate frequencies with top amplitudes...\"\n",
    "print \"note: outliers are at 49.8Hz, 57.6Hz, and 493.2Hz.\"\n",
    "res=df.sort_values(by=[\"Amplitudes\"], ascending=False).head(15)\n",
    "res.head(5)"
   ]
  },
  {
   "cell_type": "code",
   "execution_count": 7,
   "metadata": {
    "collapsed": true
   },
   "outputs": [],
   "source": [
    "import scipy.fftpack\n",
    "\n",
    "def getStrongest(n,src):\n",
    "\n",
    "    N = 20480\n",
    "    T = 1.0 / 20000.0\n",
    "    yf = scipy.fftpack.fft(src)\n",
    "    xf = np.linspace(0.0, 1.0/(2.0*T), N/2)\n",
    "\n",
    "    freqs=xf[1:]\n",
    "    amps=np.abs(yf[0:N/2])[1:]\n",
    "\n",
    "    df = pd.DataFrame({'Amplitudes':amps, 'Frequency':freqs})\n",
    "    res=df.sort_values(by=[\"Amplitudes\"], ascending=False).head(15)\n",
    "    \n",
    "    return res.Frequency.as_matrix()[n-1]"
   ]
  },
  {
   "cell_type": "markdown",
   "metadata": {},
   "source": [
    "# Loading all files"
   ]
  },
  {
   "cell_type": "code",
   "execution_count": 8,
   "metadata": {},
   "outputs": [],
   "source": [
    "folders=glob.glob(\"data/*\")\n",
    "filenames=[]\n",
    "for fd in folders:\n",
    "    name=fd\n",
    "    if \".ipynb\" not in name:\n",
    "        filenames.append(name)\n",
    "\n",
    "b1x=[]\n",
    "b1y=[]\n",
    "b2x=[]\n",
    "b2y=[]\n",
    "b3x=[]\n",
    "b3y=[]\n",
    "b4x=[]\n",
    "b4y=[]\n",
    "\n",
    "n=1\n",
    "\n",
    "for filename in filenames:\n",
    "    data=pd.read_csv(filename, header=None, names=[\"b1x\",\"b1y\",\"b2x\",\"b2y\",\"b3x\",\"b3y\",\"b4x\",\"b4y\"], delimiter=r\"\\s+\")\n",
    "    b1x.append(getStrongest(n,data.b1x))\n",
    "    b1y.append(getStrongest(n,data.b1y))\n",
    "    b2x.append(getStrongest(n,data.b2x))\n",
    "    b2y.append(getStrongest(n,data.b2y))\n",
    "    b3x.append(getStrongest(n,data.b3x))\n",
    "    b3y.append(getStrongest(n,data.b3y))\n",
    "    b4x.append(getStrongest(n,data.b4x))\n",
    "    b4y.append(getStrongest(n,data.b4y))"
   ]
  },
  {
   "cell_type": "code",
   "execution_count": 9,
   "metadata": {},
   "outputs": [
    {
     "data": {
      "text/plain": [
       "[<matplotlib.lines.Line2D at 0x10a0861d0>]"
      ]
     },
     "execution_count": 9,
     "metadata": {},
     "output_type": "execute_result"
    },
    {
     "data": {
      "image/png": "[encoded data removed]",
      "text/plain": [
       "<matplotlib.figure.Figure at 0x10a4ab410>"
      ]
     },
     "metadata": {},
     "output_type": "display_data"
    }
   ],
   "source": [
    "plt.plot(b1x)"
   ]
  },
  {
   "cell_type": "code",
   "execution_count": 10,
   "metadata": {},
   "outputs": [
    {
     "data": {
      "text/html": [
       "<div>\n",
       "<table border=\"1\" class=\"dataframe\">\n",
       "  <thead>\n",
       "    <tr style=\"text-align: right;\">\n",
       "      <th></th>\n",
       "      <th>b1x</th>\n",
       "      <th>b1y</th>\n",
       "      <th>b2x</th>\n",
       "      <th>b2y</th>\n",
       "      <th>b3x</th>\n",
       "      <th>b3y</th>\n",
       "      <th>b4x</th>\n",
       "      <th>b4y</th>\n",
       "    </tr>\n",
       "  </thead>\n",
       "  <tbody>\n",
       "    <tr>\n",
       "      <th>count</th>\n",
       "      <td>2156.000000</td>\n",
       "      <td>2156.000000</td>\n",
       "      <td>2156.000000</td>\n",
       "      <td>2156.000000</td>\n",
       "      <td>2156.000000</td>\n",
       "      <td>2156.000000</td>\n",
       "      <td>2156.000000</td>\n",
       "      <td>2156.000000</td>\n",
       "    </tr>\n",
       "    <tr>\n",
       "      <th>mean</th>\n",
       "      <td>987.476764</td>\n",
       "      <td>987.492618</td>\n",
       "      <td>988.805852</td>\n",
       "      <td>989.833245</td>\n",
       "      <td>1020.997510</td>\n",
       "      <td>4609.632202</td>\n",
       "      <td>1378.787698</td>\n",
       "      <td>816.090520</td>\n",
       "    </tr>\n",
       "    <tr>\n",
       "      <th>std</th>\n",
       "      <td>0.463837</td>\n",
       "      <td>0.587983</td>\n",
       "      <td>61.692290</td>\n",
       "      <td>77.966588</td>\n",
       "      <td>412.780627</td>\n",
       "      <td>4100.539316</td>\n",
       "      <td>990.727298</td>\n",
       "      <td>635.559964</td>\n",
       "    </tr>\n",
       "    <tr>\n",
       "      <th>min</th>\n",
       "      <td>985.447798</td>\n",
       "      <td>985.447798</td>\n",
       "      <td>985.447798</td>\n",
       "      <td>985.447798</td>\n",
       "      <td>0.976658</td>\n",
       "      <td>231.467917</td>\n",
       "      <td>985.447798</td>\n",
       "      <td>0.976658</td>\n",
       "    </tr>\n",
       "    <tr>\n",
       "      <th>25%</th>\n",
       "      <td>987.401113</td>\n",
       "      <td>987.401113</td>\n",
       "      <td>987.401113</td>\n",
       "      <td>987.401113</td>\n",
       "      <td>987.401113</td>\n",
       "      <td>494.188886</td>\n",
       "      <td>987.401113</td>\n",
       "      <td>494.188886</td>\n",
       "    </tr>\n",
       "    <tr>\n",
       "      <th>50%</th>\n",
       "      <td>987.401113</td>\n",
       "      <td>987.401113</td>\n",
       "      <td>987.401113</td>\n",
       "      <td>987.401113</td>\n",
       "      <td>987.401113</td>\n",
       "      <td>2093.954488</td>\n",
       "      <td>987.401113</td>\n",
       "      <td>494.188886</td>\n",
       "    </tr>\n",
       "    <tr>\n",
       "      <th>75%</th>\n",
       "      <td>987.401113</td>\n",
       "      <td>987.401113</td>\n",
       "      <td>987.401113</td>\n",
       "      <td>987.401113</td>\n",
       "      <td>987.401113</td>\n",
       "      <td>8997.949018</td>\n",
       "      <td>987.401113</td>\n",
       "      <td>1606.358043</td>\n",
       "    </tr>\n",
       "    <tr>\n",
       "      <th>max</th>\n",
       "      <td>988.377771</td>\n",
       "      <td>995.214376</td>\n",
       "      <td>3851.938666</td>\n",
       "      <td>3851.938666</td>\n",
       "      <td>9062.408438</td>\n",
       "      <td>9012.598887</td>\n",
       "      <td>4188.885633</td>\n",
       "      <td>4187.908975</td>\n",
       "    </tr>\n",
       "  </tbody>\n",
       "</table>\n",
       "</div>"
      ],
      "text/plain": [
       "               b1x          b1y          b2x          b2y          b3x  \\\n",
       "count  2156.000000  2156.000000  2156.000000  2156.000000  2156.000000   \n",
       "mean    987.476764   987.492618   988.805852   989.833245  1020.997510   \n",
       "std       0.463837     0.587983    61.692290    77.966588   412.780627   \n",
       "min     985.447798   985.447798   985.447798   985.447798     0.976658   \n",
       "25%     987.401113   987.401113   987.401113   987.401113   987.401113   \n",
       "50%     987.401113   987.401113   987.401113   987.401113   987.401113   \n",
       "75%     987.401113   987.401113   987.401113   987.401113   987.401113   \n",
       "max     988.377771   995.214376  3851.938666  3851.938666  9062.408438   \n",
       "\n",
       "               b3y          b4x          b4y  \n",
       "count  2156.000000  2156.000000  2156.000000  \n",
       "mean   4609.632202  1378.787698   816.090520  \n",
       "std    4100.539316   990.727298   635.559964  \n",
       "min     231.467917   985.447798     0.976658  \n",
       "25%     494.188886   987.401113   494.188886  \n",
       "50%    2093.954488   987.401113   494.188886  \n",
       "75%    8997.949018   987.401113  1606.358043  \n",
       "max    9012.598887  4188.885633  4187.908975  "
      ]
     },
     "execution_count": 10,
     "metadata": {},
     "output_type": "execute_result"
    }
   ],
   "source": [
    "df = pd.DataFrame({'b1x':b1x, 'b1y':b1y, 'b2x':b2x, 'b2y':b2y,'b3x':b3x, 'b3y':b3y,'b4x':b4x, 'b4y':b4y})\n",
    "df.describe()"
   ]
  },
  {
   "cell_type": "code",
   "execution_count": 11,
   "metadata": {},
   "outputs": [
    {
     "data": {
      "text/plain": [
       "<matplotlib.legend.Legend at 0x10bf66f50>"
      ]
     },
     "execution_count": 11,
     "metadata": {},
     "output_type": "execute_result"
    },
    {
     "data": {
      "image/png": "[encoded data removed]",
      "text/plain": [
       "<matplotlib.figure.Figure at 0x10bd345d0>"
      ]
     },
     "metadata": {},
     "output_type": "display_data"
    }
   ],
   "source": [
    "plt.scatter(range(len(b4x)),b4x, color='r', label='Bearing 4')\n",
    "plt.scatter(range(len(b3x)),b3x, color='y',label='Bearing 3')\n",
    "plt.scatter(range(len(b2x)),b2x, color='g',label='Bearing 2')\n",
    "plt.scatter(range(len(b1x)),b1x, color='b',label='Bearing 1')\n",
    "\n",
    "plt.xlabel(\"Index\")\n",
    "plt.ylabel(\"Frequency (Hz)\")\n",
    "plt.legend(loc='upper left')"
   ]
  },
  {
   "cell_type": "markdown",
   "metadata": {},
   "source": [
    "Note that in the above graph, \n",
    "\n",
    "* At time=0, all 4 bearings show a dominant frequency of ~987 Hz (overlapped)\n",
    "* Bearings 3 & 4 show signs of behavioral change over time, as shown by change in dominant frequency\n",
    "* Bearings 1 & 2 remain normal throughout until the last index due to failure of other two bearings"
   ]
  },
  {
   "cell_type": "markdown",
   "metadata": {},
   "source": [
    "# Examples of FFT Signatures"
   ]
  },
  {
   "cell_type": "code",
   "execution_count": 12,
   "metadata": {},
   "outputs": [
    {
     "data": {
      "image/png": "[encoded data removed]",
      "text/plain": [
       "<matplotlib.figure.Figure at 0x1071246d0>"
      ]
     },
     "metadata": {},
     "output_type": "display_data"
    }
   ],
   "source": [
    "data=pd.read_csv(\"data/2003.11.25.23.39.56\", header=None, names=[\"b1x\",\"b1y\",\"b2x\",\"b2y\",\"b3x\",\"b3y\",\"b4x\",\"b4y\"], delimiter=r\"\\s+\")\n",
    "\n",
    "src=data.b4x\n",
    "import scipy.fftpack\n",
    "\n",
    "N = 20480\n",
    "T = 1.0 / 20000.0\n",
    "yf = scipy.fftpack.fft(src)\n",
    "xf = np.linspace(0.0, 1.0/(2.0*T), N/2)\n",
    "\n",
    "freqs=xf[1:]\n",
    "amps=np.abs(yf[0:N/2])[1:]\n",
    "\n",
    "plt.subplot(2, 1, 1)\n",
    "plt.plot(freqs, amps)\n",
    "plt.xlabel(\"Frequency (kHz)\")\n",
    "plt.ylabel(\"Amplitude\")\n",
    "\n",
    "plt.subplot(2, 1, 2)\n",
    "plt.plot(freqs, amps)\n",
    "plt.xlabel(\"Frequency (kHz)\")\n",
    "plt.ylabel(\"Amplitude\")\n",
    "plt.xlim(0, 1000) \n",
    "plt.savefig('negative.png')"
   ]
  },
  {
   "cell_type": "markdown",
   "metadata": {},
   "source": [
    "## ^ The FFT graph above shows that the wheel bearing is malfunctioning and close to failure."
   ]
  },
  {
   "cell_type": "code",
   "execution_count": 13,
   "metadata": {},
   "outputs": [
    {
     "data": {
      "text/plain": [
       "(0, 1000)"
      ]
     },
     "execution_count": 13,
     "metadata": {},
     "output_type": "execute_result"
    },
    {
     "data": {
      "image/png": "[encoded data removed]",
      "text/plain": [
       "<matplotlib.figure.Figure at 0x109d4a910>"
      ]
     },
     "metadata": {},
     "output_type": "display_data"
    }
   ],
   "source": [
    "src=data.b1x\n",
    "import scipy.fftpack\n",
    "\n",
    "N = 20480\n",
    "T = 1.0 / 20000.0\n",
    "yf = scipy.fftpack.fft(src)\n",
    "xf = np.linspace(0.0, 1.0/(2.0*T), N/2)\n",
    "\n",
    "freqs=xf[1:]\n",
    "amps=np.abs(yf[0:N/2])[1:]\n",
    "\n",
    "plt.subplot(2, 1, 1)\n",
    "plt.plot(freqs, amps)\n",
    "plt.xlabel(\"Frequency (kHz)\")\n",
    "plt.ylabel(\"Amplitude\")\n",
    "\n",
    "plt.subplot(2, 1, 2)\n",
    "plt.plot(freqs, amps)\n",
    "plt.xlabel(\"Frequency (kHz)\")\n",
    "plt.ylabel(\"Amplitude\")\n",
    "plt.xlim(0, 1000) "
   ]
  },
  {
   "cell_type": "markdown",
   "metadata": {},
   "source": [
    "## ^ The FFT graph above shows that the wheel bearing is normal and working well."
   ]
  }
 ],
 "metadata": {
  "kernelspec": {
   "display_name": "Python 2",
   "language": "python",
   "name": "python2"
  },
  "language_info": {
   "codemirror_mode": {
    "name": "ipython",
    "version": 3
   },
   "file_extension": ".py",
   "mimetype": "text/x-python",
   "name": "python",
   "nbconvert_exporter": "python",
   "pygments_lexer": "ipython3",
   "version": "3.6.3"
  }
 },
 "nbformat": 4,
 "nbformat_minor": 1
}
